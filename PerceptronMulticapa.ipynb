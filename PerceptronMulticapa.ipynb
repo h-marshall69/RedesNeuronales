{
  "nbformat": 4,
  "nbformat_minor": 0,
  "metadata": {
    "colab": {
      "provenance": []
    },
    "kernelspec": {
      "name": "python3",
      "display_name": "Python 3"
    },
    "language_info": {
      "name": "python"
    }
  },
  "cells": [
    {
      "cell_type": "markdown",
      "source": [
        "##Perceptrón Multicapa sin Librerías"
      ],
      "metadata": {
        "id": "iGzEEv3zyPRw"
      }
    },
    {
      "cell_type": "code",
      "execution_count": null,
      "metadata": {
        "colab": {
          "base_uri": "https://localhost:8080/"
        },
        "id": "wO2srYOjyLMj",
        "outputId": "08151627-52a2-48a0-d1ed-5ddd9680d1c5"
      },
      "outputs": [
        {
          "output_type": "stream",
          "name": "stdout",
          "text": [
            "Salida después del entrenamiento:\n",
            "[[0.50817496]\n",
            " [0.51073366]\n",
            " [0.51108049]\n",
            " [0.51309019]]\n"
          ]
        }
      ],
      "source": [
        "import numpy as np\n",
        "\n",
        "# Función de activación sigmoide\n",
        "def sigmoid(x):\n",
        "    return 1 / (1 + np.exp(-x))\n",
        "\n",
        "# Derivada de la función sigmoide\n",
        "def sigmoid_derivada(x):\n",
        "    return x * (1 - x)\n",
        "\n",
        "# Datos de entrada (4 ejemplos con 2 características cada uno)\n",
        "X = np.array([[0, 0], [0, 1], [1, 0], [1, 1]])\n",
        "\n",
        "# Salida esperada (operación AND)\n",
        "y = np.array([[0], [1], [1], [0]])\n",
        "\n",
        "# Inicialización aleatoria de pesos\n",
        "np.random.seed(42)\n",
        "pesos_entrada_oculta = np.random.rand(2, 2)  # 2 neuronas de entrada, 2 en la capa oculta\n",
        "pesos_oculta_salida = np.random.rand(2, 1)  # 2 neuronas en la capa oculta, 1 en la capa de salida\n",
        "\n",
        "# Parámetros\n",
        "tasa_aprendizaje = 0.1\n",
        "epocas = 100\n",
        "\n",
        "# Entrenamiento\n",
        "for epoch in range(epocas):\n",
        "    # Propagación hacia adelante\n",
        "    capa_oculta = sigmoid(np.dot(X, pesos_entrada_oculta))\n",
        "    salida = sigmoid(np.dot(capa_oculta, pesos_oculta_salida))\n",
        "\n",
        "    # Cálculo del error\n",
        "    error = y - salida\n",
        "\n",
        "    # Retropropagación del error\n",
        "    delta_salida = error * sigmoid_derivada(salida)\n",
        "    delta_oculta = delta_salida.dot(pesos_oculta_salida.T) * sigmoid_derivada(capa_oculta)\n",
        "\n",
        "    # Actualización de los pesos\n",
        "    pesos_oculta_salida += capa_oculta.T.dot(delta_salida) * tasa_aprendizaje\n",
        "    pesos_entrada_oculta += X.T.dot(delta_oculta) * tasa_aprendizaje\n",
        "\n",
        "# Mostrar resultados\n",
        "print(\"Salida después del entrenamiento:\")\n",
        "print(salida)"
      ]
    },
    {
      "cell_type": "markdown",
      "source": [
        "##Perceptrón Multicapa con Librerías"
      ],
      "metadata": {
        "id": "j6HOF9nhzSgO"
      }
    },
    {
      "cell_type": "code",
      "source": [
        "import tensorflow as tf\n",
        "from tensorflow.keras.models import Sequential\n",
        "from tensorflow.keras.layers import Dense, Input\n",
        "\n",
        "# Definición del modelo\n",
        "modelo = Sequential()\n",
        "\n",
        "# Capa de entrada explícita\n",
        "modelo.add(Input(shape=(2,)))  # Input de 2 características\n",
        "\n",
        "# Capa oculta con 2 neuronas y activación sigmoide\n",
        "modelo.add(Dense(2, activation='sigmoid'))\n",
        "\n",
        "# Capa de salida con 1 neurona (clasificación binaria)\n",
        "modelo.add(Dense(1, activation='sigmoid'))\n",
        "\n",
        "# Compilación del modelo\n",
        "modelo.compile(loss='binary_crossentropy', optimizer='adam', metrics=['accuracy'])\n",
        "\n",
        "# Datos de entrada\n",
        "X = np.array([[0, 0], [0, 1], [1, 0], [1, 1]])\n",
        "\n",
        "# Salidas esperadas\n",
        "y = np.array([[0], [1], [1], [0]])\n",
        "\n",
        "# Entrenamiento del modelo\n",
        "modelo.fit(X, y, epochs=100, verbose=0)\n",
        "\n",
        "# Evaluación\n",
        "predicciones = modelo.predict(X)\n",
        "print(\"Predicciones:\")\n",
        "print(predicciones)"
      ],
      "metadata": {
        "colab": {
          "base_uri": "https://localhost:8080/"
        },
        "id": "uHoBMGTzzUqz",
        "outputId": "5cd223f0-5882-4df3-afc2-40369f5846ec"
      },
      "execution_count": null,
      "outputs": [
        {
          "output_type": "stream",
          "name": "stdout",
          "text": [
            "\u001b[1m1/1\u001b[0m \u001b[32m━━━━━━━━━━━━━━━━━━━━\u001b[0m\u001b[37m\u001b[0m \u001b[1m0s\u001b[0m 52ms/step\n",
            "Predicciones:\n",
            "[[0.58262664]\n",
            " [0.52239925]\n",
            " [0.5462057 ]\n",
            " [0.4994327 ]]\n"
          ]
        }
      ]
    },
    {
      "cell_type": "markdown",
      "source": [
        "##Perceptrón Multicapa sklearn"
      ],
      "metadata": {
        "id": "wTAaJJVjcIkd"
      }
    },
    {
      "cell_type": "code",
      "source": [
        "import numpy as np\n",
        "from sklearn.neural_network import MLPClassifier\n",
        "\n",
        "# Datos de entrada\n",
        "X = np.array([[0, 0], [0, 1], [1, 0], [1, 1]])\n",
        "\n",
        "# Salidas esperadas\n",
        "y = np.array([0, 1, 1, 0])  # Debe ser un vector unidimensional para MLPClassifier\n",
        "\n",
        "# Definición del modelo\n",
        "modelo = MLPClassifier(hidden_layer_sizes=(2,), activation='logistic', max_iter=100)\n",
        "\n",
        "# Entrenamiento del modelo\n",
        "modelo.fit(X, y)\n",
        "\n",
        "# Evaluación\n",
        "predicciones = modelo.predict(X)\n",
        "print(\"Predicciones:\")\n",
        "print(predicciones)"
      ],
      "metadata": {
        "id": "gog_BpI-cDFB",
        "outputId": "f2c710f2-c2ed-4f06-b379-cfba2563f3a9",
        "colab": {
          "base_uri": "https://localhost:8080/"
        }
      },
      "execution_count": 1,
      "outputs": [
        {
          "output_type": "stream",
          "name": "stdout",
          "text": [
            "Predicciones:\n",
            "[0 0 0 0]\n"
          ]
        },
        {
          "output_type": "stream",
          "name": "stderr",
          "text": [
            "/usr/local/lib/python3.10/dist-packages/sklearn/neural_network/_multilayer_perceptron.py:690: ConvergenceWarning: Stochastic Optimizer: Maximum iterations (100) reached and the optimization hasn't converged yet.\n",
            "  warnings.warn(\n"
          ]
        }
      ]
    }
  ]
}