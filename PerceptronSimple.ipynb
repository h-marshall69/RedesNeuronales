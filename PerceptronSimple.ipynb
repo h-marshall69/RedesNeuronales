{
  "nbformat": 4,
  "nbformat_minor": 0,
  "metadata": {
    "colab": {
      "provenance": []
    },
    "kernelspec": {
      "name": "python3",
      "display_name": "Python 3"
    },
    "language_info": {
      "name": "python"
    }
  },
  "cells": [
    {
      "cell_type": "markdown",
      "source": [
        "##Perceptron Simple sin Librerías"
      ],
      "metadata": {
        "id": "rypyw3tYuYGN"
      }
    },
    {
      "cell_type": "code",
      "source": [
        "import numpy as np\n",
        "\n",
        "# Función escalón\n",
        "def step_function(z):\n",
        "    return 1 if z >= 0 else 0\n",
        "\n",
        "# Perceptrón simple\n",
        "class Perceptron:\n",
        "    def __init__(self, learning_rate=0.1, epochs=100):\n",
        "        self.learning_rate = learning_rate\n",
        "        self.epochs = epochs\n",
        "        self.weights = None\n",
        "        self.bias = None\n",
        "\n",
        "    def fit(self, X, y):\n",
        "        n_samples, n_features = X.shape\n",
        "        self.weights = np.zeros(n_features)\n",
        "        self.bias = 0\n",
        "\n",
        "        # Entrenamiento\n",
        "        for _ in range(self.epochs):\n",
        "            for idx, x_i in enumerate(X):\n",
        "                linear_output = np.dot(x_i, self.weights) + self.bias\n",
        "                y_pred = step_function(linear_output)\n",
        "\n",
        "                # Actualización de pesos y sesgo\n",
        "                update = self.learning_rate * (y[idx] - y_pred)\n",
        "                self.weights += update * x_i\n",
        "                self.bias += update\n",
        "\n",
        "    def predict(self, X):\n",
        "        linear_output = np.dot(X, self.weights) + self.bias\n",
        "        return step_function(linear_output)\n",
        "\n",
        "# Datos de entrenamiento (puerta lógica AND)\n",
        "X = np.array([[0, 0], [0, 1], [1, 0], [1, 1]])\n",
        "y = np.array([0, 0, 0, 1])\n",
        "\n",
        "# Inicialización del perceptrón y entrenamiento\n",
        "perceptron = Perceptron(learning_rate=0.1, epochs=10)\n",
        "perceptron.fit(X, y)\n",
        "\n",
        "# Prueba del perceptrón\n",
        "print(perceptron.predict(np.array([0, 0])))  # Salida esperada: 0\n",
        "print(perceptron.predict(np.array([1, 0])))  # Salida esperada: 0\n",
        "print(perceptron.predict(np.array([0, 1])))  # Salida esperada: 0\n",
        "print(perceptron.predict(np.array([1, 1])))  # Salida esperada: 1\n"
      ],
      "metadata": {
        "colab": {
          "base_uri": "https://localhost:8080/"
        },
        "id": "5UJhj9vHueDe",
        "outputId": "74b35b5d-0163-45ad-df4e-ecdf476c0cfc"
      },
      "execution_count": null,
      "outputs": [
        {
          "output_type": "stream",
          "name": "stdout",
          "text": [
            "0\n",
            "0\n",
            "0\n",
            "1\n"
          ]
        }
      ]
    },
    {
      "cell_type": "markdown",
      "source": [
        "##Perceptron Simple con Librerías"
      ],
      "metadata": {
        "id": "CL6U9l1_usuo"
      }
    },
    {
      "cell_type": "code",
      "source": [
        "from sklearn.linear_model import Perceptron\n",
        "\n",
        "# Datos de entrenamiento (puerta lógica AND)\n",
        "X = [[0, 0], [0, 1], [1, 0], [1, 1]]\n",
        "y = [0, 0, 0, 1]\n",
        "\n",
        "# Inicialización y entrenamiento del perceptrón\n",
        "clf = Perceptron(tol=1e-3, random_state=0, max_iter=10)\n",
        "clf.fit(X, y)\n",
        "\n",
        "# Prueba del perceptrón\n",
        "print(clf.predict([[0, 0]]))  # Salida esperada: 0\n",
        "print(clf.predict([[1, 0]]))  # Salida esperada: 0\n",
        "print(clf.predict([[0, 1]]))  # Salida esperada: 0\n",
        "print(clf.predict([[1, 1]]))  # Salida esperada: 1"
      ],
      "metadata": {
        "colab": {
          "base_uri": "https://localhost:8080/"
        },
        "id": "gSgk3enWuwgM",
        "outputId": "67859789-91a9-496b-f42f-6bcf77660163"
      },
      "execution_count": null,
      "outputs": [
        {
          "output_type": "stream",
          "name": "stdout",
          "text": [
            "[0]\n",
            "[0]\n",
            "[0]\n",
            "[1]\n"
          ]
        },
        {
          "output_type": "stream",
          "name": "stderr",
          "text": [
            "/usr/local/lib/python3.10/dist-packages/sklearn/linear_model/_stochastic_gradient.py:744: ConvergenceWarning: Maximum number of iteration reached before convergence. Consider increasing max_iter to improve the fit.\n",
            "  warnings.warn(\n"
          ]
        }
      ]
    }
  ]
}