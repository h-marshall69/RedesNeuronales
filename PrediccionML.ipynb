{
  "nbformat": 4,
  "nbformat_minor": 0,
  "metadata": {
    "colab": {
      "provenance": [],
      "authorship_tag": "ABX9TyOaN4bLTXuYP49IcMLBbOVr",
      "include_colab_link": true
    },
    "kernelspec": {
      "name": "python3",
      "display_name": "Python 3"
    },
    "language_info": {
      "name": "python"
    }
  },
  "cells": [
    {
      "cell_type": "markdown",
      "metadata": {
        "id": "view-in-github",
        "colab_type": "text"
      },
      "source": [
        "<a href=\"https://colab.research.google.com/github/h-marshall69/RedesNeuronales/blob/main/PrediccionML.ipynb\" target=\"_parent\"><img src=\"https://colab.research.google.com/assets/colab-badge.svg\" alt=\"Open In Colab\"/></a>"
      ]
    },
    {
      "cell_type": "code",
      "execution_count": 1,
      "metadata": {
        "colab": {
          "base_uri": "https://localhost:8080/"
        },
        "id": "HCVsYqGbfeDD",
        "outputId": "d9760ce6-3d4f-46ab-d6b0-bb34ce311fff"
      },
      "outputs": [
        {
          "output_type": "stream",
          "name": "stdout",
          "text": [
            "Mounted at /content/drive\n"
          ]
        }
      ],
      "source": [
        "# Montaje de Google Drive\n",
        "from google.colab import drive\n",
        "import os\n",
        "\n",
        "# Montaje de Google Drive\n",
        "drive.mount('/content/drive')\n",
        "\n",
        "path_dir = '/content/drive/MyDrive/DatosAbiertosElectroPuno'\n",
        "os.chdir(path_dir)"
      ]
    },
    {
      "cell_type": "code",
      "source": [
        "import pandas as pd\n",
        "\n",
        "# Cargar el dataset de febrero\n",
        "febrero = pd.read_csv('/content/drive/MyDrive/DatosAbiertosElectroPuno/DatosAbiertos_Febrero2023.csv', delimiter=';')\n",
        "\n",
        "# Filtrar los datos de febrero para UBIGEO 210101\n",
        "filtered_data_febrero = febrero[febrero['UBIGEO'] == 210101]\n",
        "filtered_data_febrero.to_csv('/content/drive/MyDrive/DatosAbiertosElectroPuno/filtered_data_febrero.csv', index=False)\n"
      ],
      "metadata": {
        "id": "OaSAloEZsciR"
      },
      "execution_count": null,
      "outputs": []
    },
    {
      "cell_type": "code",
      "source": [
        "import pandas as pd\n",
        "\n",
        "# Guardar el DataFrame modificado en un nuevo archivo CSV\n",
        "data = pd.read_csv('/content/drive/MyDrive/DatosAbiertosElectroPuno/DatosAbiertos_Enero2023.csv')\n",
        "# Filtrar los datos para UBIGEO 210101\n",
        "filtered_data_enero = data[data['UBIGEO'] == 210101]\n",
        "\n",
        "# Guardar el DataFrame filtrado en un nuevo archivo CSV\n",
        "filtered_data_enero.to_csv('/content/drive/MyDrive/DatosAbiertosElectroPuno/filtered_data_enero.csv', index=False)"
      ],
      "metadata": {
        "id": "7RKjv48IhGcu"
      },
      "execution_count": 62,
      "outputs": []
    },
    {
      "cell_type": "code",
      "source": [
        "import pandas as pd\n",
        "from sklearn.model_selection import train_test_split\n",
        "from sklearn.ensemble import RandomForestRegressor\n",
        "from sklearn.metrics import mean_squared_error\n",
        "import numpy as np\n",
        "\n",
        "# Cargar los datos\n",
        "data = pd.read_csv('/content/drive/MyDrive/DatosAbiertosElectroPuno/filtered_data_enero.csv')\n",
        "\n",
        "# Verificar las primeras filas\n",
        "print(data.head())\n",
        "\n",
        "# Comprobar si hay valores nulos\n",
        "print(data.isnull().sum())\n",
        "\n",
        "# Eliminar filas con valores nulos\n",
        "data.dropna(inplace=True)\n",
        "\n",
        "# Verificar el tamaño del DataFrame después de eliminar filas nulas\n",
        "print(f'Dimensión del DataFrame después de eliminar nulos: {data.shape}')\n",
        "\n",
        "# Preprocesamiento\n",
        "data['FECHA_ALTA'] = pd.to_datetime(data['FECHA_ALTA'], format='%d/%m/%Y')\n",
        "\n",
        "# Extraer características de la fecha\n",
        "data['AÑO_ALTA'] = data['FECHA_ALTA'].dt.year\n",
        "data['MES_ALTA'] = data['FECHA_ALTA'].dt.month\n",
        "data['DIA_ALTA'] = data['FECHA_ALTA'].dt.day\n",
        "\n",
        "# Opcional: eliminar la columna original de fecha\n",
        "data.drop(columns=['FECHA_ALTA'], inplace=True)\n",
        "\n",
        "data['PERIODO'] = data['PERIODO'].astype(str)\n",
        "\n",
        "# Convertir categóricos a numéricos\n",
        "data = pd.get_dummies(data, columns=['TARIFA', 'ESTADO_CLIENTE'], drop_first=True)\n",
        "\n",
        "# Seleccionar características y variable objetivo\n",
        "X = data.drop(columns=['CODIGO_CLIENTE', 'UBIGEO', 'DEPARTAMENTO', 'PROVINCIA', 'DISTRITO', 'FECHA_CORTE', 'CONSUMO'])\n",
        "y = data['CONSUMO']\n",
        "\n",
        "# Comprobar dimensiones\n",
        "print(f'Dimensión de X: {X.shape}')\n",
        "print(f'Dimensión de y: {y.shape}')\n",
        "\n",
        "# Dividir los datos en conjunto de entrenamiento y prueba\n",
        "X_train, X_test, y_train, y_test = train_test_split(X, y, test_size=0.2, random_state=42)\n",
        "\n",
        "# Entrenar el modelo\n",
        "model = RandomForestRegressor(n_estimators=100, random_state=42)\n",
        "model.fit(X_train, y_train)\n",
        "\n",
        "# Hacer predicciones\n",
        "y_pred = model.predict(X_test)\n",
        "\n",
        "# Evaluar el modelo\n",
        "rmse = np.sqrt(mean_squared_error(y_test, y_pred))\n",
        "print(f'Error Cuadrático Medio (RMSE): {rmse}')\n"
      ],
      "metadata": {
        "colab": {
          "base_uri": "https://localhost:8080/",
          "height": 790
        },
        "id": "bFNWPiLGxzr6",
        "outputId": "66e67d5e-99ac-4419-df7c-4d978b8edc3c"
      },
      "execution_count": 67,
      "outputs": [
        {
          "output_type": "stream",
          "name": "stdout",
          "text": [
            "   CODIGO_CLIENTE  UBIGEO DEPARTAMENTO  ... ESTADO_CLIENTE FECHA_CORTE Unnamed: 12\n",
            "0            1875  210101         PUNO  ...         NORMAL  29/05/2023         NaN\n",
            "1            2240  210101         PUNO  ...         NORMAL  29/05/2023         NaN\n",
            "2            2576  210101         PUNO  ...         NORMAL  29/05/2023         NaN\n",
            "3            2832  210101         PUNO  ...         NORMAL  29/05/2023         NaN\n",
            "4            3549  210101         PUNO  ...         NORMAL  29/05/2023         NaN\n",
            "\n",
            "[5 rows x 13 columns]\n",
            "CODIGO_CLIENTE        0\n",
            "UBIGEO                0\n",
            "DEPARTAMENTO          0\n",
            "PROVINCIA             0\n",
            "DISTRITO              0\n",
            "FECHA_ALTA            0\n",
            "TARIFA                0\n",
            "PERIODO               0\n",
            "CONSUMO               0\n",
            "FACTURACION           0\n",
            "ESTADO_CLIENTE        0\n",
            "FECHA_CORTE           0\n",
            "Unnamed: 12       53309\n",
            "dtype: int64\n",
            "Dimensión del DataFrame después de eliminar nulos: (0, 13)\n",
            "Dimensión de X: (0, 6)\n",
            "Dimensión de y: (0,)\n"
          ]
        },
        {
          "output_type": "error",
          "ename": "ValueError",
          "evalue": "With n_samples=0, test_size=0.2 and train_size=None, the resulting train set will be empty. Adjust any of the aforementioned parameters.",
          "traceback": [
            "\u001b[0;31m---------------------------------------------------------------------------\u001b[0m",
            "\u001b[0;31mValueError\u001b[0m                                Traceback (most recent call last)",
            "\u001b[0;32m<ipython-input-67-71ca8627da80>\u001b[0m in \u001b[0;36m<cell line: 47>\u001b[0;34m()\u001b[0m\n\u001b[1;32m     45\u001b[0m \u001b[0;34m\u001b[0m\u001b[0m\n\u001b[1;32m     46\u001b[0m \u001b[0;31m# Dividir los datos en conjunto de entrenamiento y prueba\u001b[0m\u001b[0;34m\u001b[0m\u001b[0;34m\u001b[0m\u001b[0m\n\u001b[0;32m---> 47\u001b[0;31m \u001b[0mX_train\u001b[0m\u001b[0;34m,\u001b[0m \u001b[0mX_test\u001b[0m\u001b[0;34m,\u001b[0m \u001b[0my_train\u001b[0m\u001b[0;34m,\u001b[0m \u001b[0my_test\u001b[0m \u001b[0;34m=\u001b[0m \u001b[0mtrain_test_split\u001b[0m\u001b[0;34m(\u001b[0m\u001b[0mX\u001b[0m\u001b[0;34m,\u001b[0m \u001b[0my\u001b[0m\u001b[0;34m,\u001b[0m \u001b[0mtest_size\u001b[0m\u001b[0;34m=\u001b[0m\u001b[0;36m0.2\u001b[0m\u001b[0;34m,\u001b[0m \u001b[0mrandom_state\u001b[0m\u001b[0;34m=\u001b[0m\u001b[0;36m42\u001b[0m\u001b[0;34m)\u001b[0m\u001b[0;34m\u001b[0m\u001b[0;34m\u001b[0m\u001b[0m\n\u001b[0m\u001b[1;32m     48\u001b[0m \u001b[0;34m\u001b[0m\u001b[0m\n\u001b[1;32m     49\u001b[0m \u001b[0;31m# Entrenar el modelo\u001b[0m\u001b[0;34m\u001b[0m\u001b[0;34m\u001b[0m\u001b[0m\n",
            "\u001b[0;32m/usr/local/lib/python3.10/dist-packages/sklearn/utils/_param_validation.py\u001b[0m in \u001b[0;36mwrapper\u001b[0;34m(*args, **kwargs)\u001b[0m\n\u001b[1;32m    211\u001b[0m                     )\n\u001b[1;32m    212\u001b[0m                 ):\n\u001b[0;32m--> 213\u001b[0;31m                     \u001b[0;32mreturn\u001b[0m \u001b[0mfunc\u001b[0m\u001b[0;34m(\u001b[0m\u001b[0;34m*\u001b[0m\u001b[0margs\u001b[0m\u001b[0;34m,\u001b[0m \u001b[0;34m**\u001b[0m\u001b[0mkwargs\u001b[0m\u001b[0;34m)\u001b[0m\u001b[0;34m\u001b[0m\u001b[0;34m\u001b[0m\u001b[0m\n\u001b[0m\u001b[1;32m    214\u001b[0m             \u001b[0;32mexcept\u001b[0m \u001b[0mInvalidParameterError\u001b[0m \u001b[0;32mas\u001b[0m \u001b[0me\u001b[0m\u001b[0;34m:\u001b[0m\u001b[0;34m\u001b[0m\u001b[0;34m\u001b[0m\u001b[0m\n\u001b[1;32m    215\u001b[0m                 \u001b[0;31m# When the function is just a wrapper around an estimator, we allow\u001b[0m\u001b[0;34m\u001b[0m\u001b[0;34m\u001b[0m\u001b[0m\n",
            "\u001b[0;32m/usr/local/lib/python3.10/dist-packages/sklearn/model_selection/_split.py\u001b[0m in \u001b[0;36mtrain_test_split\u001b[0;34m(test_size, train_size, random_state, shuffle, stratify, *arrays)\u001b[0m\n\u001b[1;32m   2783\u001b[0m \u001b[0;34m\u001b[0m\u001b[0m\n\u001b[1;32m   2784\u001b[0m     \u001b[0mn_samples\u001b[0m \u001b[0;34m=\u001b[0m \u001b[0m_num_samples\u001b[0m\u001b[0;34m(\u001b[0m\u001b[0marrays\u001b[0m\u001b[0;34m[\u001b[0m\u001b[0;36m0\u001b[0m\u001b[0;34m]\u001b[0m\u001b[0;34m)\u001b[0m\u001b[0;34m\u001b[0m\u001b[0;34m\u001b[0m\u001b[0m\n\u001b[0;32m-> 2785\u001b[0;31m     n_train, n_test = _validate_shuffle_split(\n\u001b[0m\u001b[1;32m   2786\u001b[0m         \u001b[0mn_samples\u001b[0m\u001b[0;34m,\u001b[0m \u001b[0mtest_size\u001b[0m\u001b[0;34m,\u001b[0m \u001b[0mtrain_size\u001b[0m\u001b[0;34m,\u001b[0m \u001b[0mdefault_test_size\u001b[0m\u001b[0;34m=\u001b[0m\u001b[0;36m0.25\u001b[0m\u001b[0;34m\u001b[0m\u001b[0;34m\u001b[0m\u001b[0m\n\u001b[1;32m   2787\u001b[0m     )\n",
            "\u001b[0;32m/usr/local/lib/python3.10/dist-packages/sklearn/model_selection/_split.py\u001b[0m in \u001b[0;36m_validate_shuffle_split\u001b[0;34m(n_samples, test_size, train_size, default_test_size)\u001b[0m\n\u001b[1;32m   2413\u001b[0m \u001b[0;34m\u001b[0m\u001b[0m\n\u001b[1;32m   2414\u001b[0m     \u001b[0;32mif\u001b[0m \u001b[0mn_train\u001b[0m \u001b[0;34m==\u001b[0m \u001b[0;36m0\u001b[0m\u001b[0;34m:\u001b[0m\u001b[0;34m\u001b[0m\u001b[0;34m\u001b[0m\u001b[0m\n\u001b[0;32m-> 2415\u001b[0;31m         raise ValueError(\n\u001b[0m\u001b[1;32m   2416\u001b[0m             \u001b[0;34m\"With n_samples={}, test_size={} and train_size={}, the \"\u001b[0m\u001b[0;34m\u001b[0m\u001b[0;34m\u001b[0m\u001b[0m\n\u001b[1;32m   2417\u001b[0m             \u001b[0;34m\"resulting train set will be empty. Adjust any of the \"\u001b[0m\u001b[0;34m\u001b[0m\u001b[0;34m\u001b[0m\u001b[0m\n",
            "\u001b[0;31mValueError\u001b[0m: With n_samples=0, test_size=0.2 and train_size=None, the resulting train set will be empty. Adjust any of the aforementioned parameters."
          ]
        }
      ]
    }
  ]
}